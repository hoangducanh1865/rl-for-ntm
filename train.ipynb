{
 "cells": [
  {
   "cell_type": "markdown",
   "metadata": {
    "id": "a7NLAhAOPOjc"
   },
   "source": []
  },
  {
   "cell_type": "code",
   "execution_count": null,
   "metadata": {
    "colab": {
     "base_uri": "https://localhost:8080/"
    },
    "executionInfo": {
     "elapsed": 431270,
     "status": "ok",
     "timestamp": 1742570380577,
     "user": {
      "displayName": "KANA",
      "userId": "05102787880907927797"
     },
     "user_tz": -420
    },
    "id": "w6qGgRcTD_a3",
    "outputId": "dc53e505-33f0-449e-fa02-3ad344352aec"
   },
   "outputs": [],
   "source": [
    "!python main.py 'src/datasets/pickles/20newsgroups_mwl3.pkl'"
   ]
  },
  {
   "cell_type": "code",
   "execution_count": null,
   "metadata": {
    "colab": {
     "base_uri": "https://localhost:8080/"
    },
    "executionInfo": {
     "elapsed": 66,
     "status": "ok",
     "timestamp": 1742550281773,
     "user": {
      "displayName": "KANA",
      "userId": "05102787880907927797"
     },
     "user_tz": -420
    },
    "id": "VJRhAqn07Yfq",
    "outputId": "55bf8948-c16d-46c2-9944-aee086088efe"
   },
   "outputs": [],
   "source": [
    "!python run_experiments.py my_experiment 5 --meta_seed 42"
   ]
  }
 ],
 "metadata": {
  "accelerator": "GPU",
  "colab": {
   "gpuType": "L4",
   "machine_shape": "hm",
   "provenance": []
  },
  "kernelspec": {
   "display_name": "venv (3.10.18)",
   "language": "python",
   "name": "python3"
  },
  "language_info": {
   "codemirror_mode": {
    "name": "ipython",
    "version": 3
   },
   "file_extension": ".py",
   "mimetype": "text/x-python",
   "name": "python",
   "nbconvert_exporter": "python",
   "pygments_lexer": "ipython3",
   "version": "3.10.18"
  }
 },
 "nbformat": 4,
 "nbformat_minor": 0
}
